{
 "cells": [
  {
   "cell_type": "code",
   "execution_count": 6,
   "metadata": {},
   "outputs": [],
   "source": [
    "import json\n",
    "with open('intent_texts.json', 'r', encoding='utf-8') as f:\n",
    "    intent_texts = json.load(f)"
   ]
  },
  {
   "cell_type": "code",
   "execution_count": 7,
   "metadata": {},
   "outputs": [
    {
     "name": "stderr",
     "output_type": "stream",
     "text": [
      "Some weights of BertForSequenceClassification were not initialized from the model checkpoint at bert-base-uncased and are newly initialized: ['classifier.bias', 'classifier.weight']\n",
      "You should probably TRAIN this model on a down-stream task to be able to use it for predictions and inference.\n"
     ]
    },
    {
     "data": {
      "application/vnd.jupyter.widget-view+json": {
       "model_id": "71906fd73b51437f8b94510534ea9708",
       "version_major": 2,
       "version_minor": 0
      },
      "text/plain": [
       "  0%|          | 0/30 [00:00<?, ?it/s]"
      ]
     },
     "metadata": {},
     "output_type": "display_data"
    },
    {
     "name": "stdout",
     "output_type": "stream",
     "text": [
      "{'loss': 0.525, 'learning_rate': 3.3333333333333335e-05, 'epoch': 1.67}\n",
      "{'loss': 0.1994, 'learning_rate': 1.6666666666666667e-05, 'epoch': 3.33}\n",
      "{'loss': 0.0836, 'learning_rate': 0.0, 'epoch': 5.0}\n",
      "{'train_runtime': 22.7279, 'train_samples_per_second': 9.24, 'train_steps_per_second': 1.32, 'train_loss': 0.2693375706672668, 'epoch': 5.0}\n"
     ]
    },
    {
     "data": {
      "text/plain": [
       "('./my_tokenizer_model/tokenizer_config.json',\n",
       " './my_tokenizer_model/special_tokens_map.json',\n",
       " './my_tokenizer_model/vocab.txt',\n",
       " './my_tokenizer_model/added_tokens.json',\n",
       " './my_tokenizer_model/tokenizer.json')"
      ]
     },
     "execution_count": 7,
     "metadata": {},
     "output_type": "execute_result"
    }
   ],
   "source": [
    "from transformers import BertTokenizerFast, BertForSequenceClassification, Trainer, TrainingArguments\n",
    "import torch\n",
    "\n",
    "num_labels = 2\n",
    "tokenizer = BertTokenizerFast.from_pretrained('bert-base-uncased')\n",
    "model = BertForSequenceClassification.from_pretrained('bert-base-uncased', num_labels=num_labels)\n",
    "\n",
    "train_encodings = tokenizer(intent_texts['texts'], truncation=True, padding=True)\n",
    "\n",
    "class Dataset(torch.utils.data.Dataset):\n",
    "\n",
    "    def __init__(self, encodings, labels):\n",
    "        self.encodings = encodings\n",
    "        self.labels = labels\n",
    "\n",
    "    def __len__(self):\n",
    "        return len(self.labels)\n",
    "        \n",
    "    def __getitem__(self, idx):\n",
    "        item = {key: torch.tensor(val[idx]) for key, val in self.encodings.items()}\n",
    "        item['labels'] = torch.tensor(self.labels[idx])\n",
    "        return item\n",
    "\n",
    "train_dataset = Dataset(train_encodings, intent_texts['classes'])\n",
    "\n",
    "training_args = TrainingArguments(\n",
    "    output_dir='./results',\n",
    "    num_train_epochs=5,\n",
    "    per_device_train_batch_size=8,\n",
    "    logging_dir='./logs',\n",
    "    logging_steps=10,\n",
    "    no_cuda=False\n",
    ")\n",
    "\n",
    "trainer = Trainer(\n",
    "    model=model,\n",
    "    args=training_args,\n",
    "    train_dataset=train_dataset\n",
    ")\n",
    "\n",
    "trainer.train()\n",
    "\n",
    "model.save_pretrained(\"./my_intent_model\")\n",
    "tokenizer.save_pretrained(\"./my_tokenizer_model\")"
   ]
  },
  {
   "cell_type": "code",
   "execution_count": 11,
   "metadata": {},
   "outputs": [
    {
     "name": "stdout",
     "output_type": "stream",
     "text": [
      "general\n",
      "general\n",
      "general\n",
      "platform\n",
      "platform\n",
      "platform\n",
      "platform\n"
     ]
    }
   ],
   "source": [
    "def predict_intent(text):\n",
    "    inputs = tokenizer(text, return_tensors=\"pt\", truncation=True, padding=True)\n",
    "    outputs = model(**inputs)\n",
    "    probs = torch.nn.functional.softmax(outputs.logits, dim=1)\n",
    "    pred_label = torch.argmax(probs).item()\n",
    "    labels_map = {0: \"general\", 1: \"platform\"}\n",
    "    return labels_map[pred_label]\n",
    "\n",
    "print(predict_intent(\"hello\"))\n",
    "print(predict_intent(\"hello, can you help me?\"))\n",
    "print(predict_intent(\"i need your help\"))\n",
    "print(predict_intent(\"how can i track my order\"))\n",
    "print(predict_intent(\"can i pay cash for my order\"))\n",
    "print(predict_intent(\"the order has not arrived yet. i dont want it anymore, i want my money back\"))\n",
    "print(predict_intent(\"tell me about nespresso\"))"
   ]
  }
 ],
 "metadata": {
  "kernelspec": {
   "display_name": "usr",
   "language": "python",
   "name": "python3"
  },
  "language_info": {
   "codemirror_mode": {
    "name": "ipython",
    "version": 3
   },
   "file_extension": ".py",
   "mimetype": "text/x-python",
   "name": "python",
   "nbconvert_exporter": "python",
   "pygments_lexer": "ipython3",
   "version": "3.10.12"
  }
 },
 "nbformat": 4,
 "nbformat_minor": 2
}
